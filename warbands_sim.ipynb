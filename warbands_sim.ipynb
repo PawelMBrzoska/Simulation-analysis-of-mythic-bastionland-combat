{
 "cells": [
  {
   "cell_type": "code",
   "execution_count": 2,
   "metadata": {},
   "outputs": [],
   "source": [
    "import random\n",
    "import statistics\n",
    "import Engine"
   ]
  },
  {
   "attachments": {},
   "cell_type": "markdown",
   "metadata": {},
   "source": [
    "---\n",
    "Solo combat"
   ]
  },
  {
   "cell_type": "code",
   "execution_count": 27,
   "metadata": {},
   "outputs": [
    {
     "name": "stdout",
     "output_type": "stream",
     "text": [
      "band1 wins = 35705\n",
      "band2 wins = 35709\n",
      "draw = 28586\n",
      "average turns count = 2.64004\n"
     ]
    }
   ],
   "source": [
    "# 1v1 of Conscripts with simultaneous attack\n",
    "win1 = 0\n",
    "win2 = 0\n",
    "draw = 0\n",
    "turns_list = []\n",
    "\n",
    "for test in range(1, 100001):\n",
    "\n",
    "    band1 = Engine.Warband_conscripts(n=1)\n",
    "    band2 = Engine.Warband_conscripts(n=2)\n",
    "    turns = 0\n",
    "    \n",
    "    while band1.life == True and band2.life == True:\n",
    "    \n",
    "        dmg1 = Engine.roll_dmg(band1) #roll for dmg\n",
    "        dmg2 = Engine.roll_dmg(band2)\n",
    "\n",
    "        Engine.deal_dmg_to(band2, dmg = dmg1) #Recieving dmg simultaneously\n",
    "        Engine.deal_dmg_to(band1, dmg = dmg2) \n",
    "        turns += 1\n",
    "        \n",
    "    if band1.life == True: win1 +=1\n",
    "    elif band2.life == True: win2 +=1\n",
    "    else: draw += 1\n",
    "    turns_list.append(turns)\n",
    "\n",
    "print(\"band1 wins =\", win1)\n",
    "print(\"band2 wins =\", win2)\n",
    "print(\"draw =\", draw)\n",
    "print(\"average turns count =\", statistics.fmean(turns_list))\n"
   ]
  },
  {
   "cell_type": "code",
   "execution_count": 28,
   "metadata": {},
   "outputs": [
    {
     "name": "stdout",
     "output_type": "stream",
     "text": [
      "band1 wins = 32374\n",
      "band2 wins = 32170\n",
      "draw = 35456\n",
      "average turns count = 2.35314\n"
     ]
    }
   ],
   "source": [
    "# 1v1 of Mercenaries with simultaneous attack\n",
    "win1 = 0\n",
    "win2 = 0\n",
    "draw = 0\n",
    "turns_list = []\n",
    "\n",
    "for test in range(1, 100001):\n",
    "\n",
    "    band1 = Engine.Warband_mercenaries(n=1)\n",
    "    band2 = Engine.Warband_mercenaries(n=2)\n",
    "    turns = 0\n",
    "    \n",
    "    while band1.life == True and band2.life == True:\n",
    "    \n",
    "        dmg1 = Engine.roll_dmg(band1) #roll for dmg\n",
    "        dmg2 = Engine.roll_dmg(band2)\n",
    "\n",
    "        Engine.deal_dmg_to(band2, dmg = dmg1) #Recieving dmg simultaneously\n",
    "        Engine.deal_dmg_to(band1, dmg = dmg2) \n",
    "        turns += 1\n",
    "        \n",
    "    if band1.life == True: win1 +=1\n",
    "    elif band2.life == True: win2 +=1\n",
    "    else: draw += 1\n",
    "    turns_list.append(turns)\n",
    "    \n",
    "print(\"band1 wins =\", win1)\n",
    "print(\"band2 wins =\", win2)\n",
    "print(\"draw =\", draw)\n",
    "print(\"average turns count =\", statistics.fmean(turns_list))\n",
    "\n"
   ]
  },
  {
   "cell_type": "code",
   "execution_count": 29,
   "metadata": {},
   "outputs": [
    {
     "name": "stdout",
     "output_type": "stream",
     "text": [
      "band1 wins = 44565\n",
      "band2 wins = 44462\n",
      "draw = 10973\n",
      "average turns count = 5.78725\n"
     ]
    }
   ],
   "source": [
    "# 1v1 of Knights with simultaneous attack\n",
    "win1 = 0\n",
    "win2 = 0\n",
    "draw = 0\n",
    "turns_list = []\n",
    "\n",
    "for test in range(1, 100001):\n",
    "\n",
    "    band1 = Engine.Warband_knights(n=1)\n",
    "    band2 = Engine.Warband_knights(n=2)\n",
    "    turns = 0\n",
    "    while band1.life == True and band2.life == True:\n",
    "    \n",
    "        dmg1 = Engine.roll_dmg(band1) #roll for dmg\n",
    "        dmg2 = Engine.roll_dmg(band2)\n",
    "\n",
    "        Engine.deal_dmg_to(band2, dmg = dmg1) #Recieving dmg simultaneously\n",
    "        Engine.deal_dmg_to(band1, dmg = dmg2) \n",
    "        turns += 1\n",
    "        \n",
    "    if band1.life == True: win1 +=1\n",
    "    elif band2.life == True: win2 +=1\n",
    "    else: draw += 1\n",
    "    turns_list.append(turns)\n",
    "\n",
    "print(\"band1 wins =\", win1)\n",
    "print(\"band2 wins =\", win2)\n",
    "print(\"draw =\", draw)\n",
    "print(\"average turns count =\", statistics.fmean(turns_list))"
   ]
  },
  {
   "cell_type": "code",
   "execution_count": 31,
   "metadata": {},
   "outputs": [
    {
     "name": "stdout",
     "output_type": "stream",
     "text": [
      "band1 wins = 64517\n",
      "band2 wins = 35483\n",
      "draw = 0\n",
      "average turns count = 2.64079\n"
     ]
    }
   ],
   "source": [
    "# 1v1 of Conscripts with player (band1) always attack first\n",
    "win1 = 0\n",
    "win2 = 0\n",
    "draw = 0\n",
    "turns_list = []\n",
    "\n",
    "for test in range(1, 100001):\n",
    "\n",
    "    band1 = Engine.Warband_conscripts(n=1)\n",
    "    band2 = Engine.Warband_conscripts(n=2)\n",
    "    turns = 0\n",
    "    \n",
    "    while band1.life == True and band2.life == True:\n",
    "    \n",
    "        dmg1 = Engine.roll_dmg(band1) #Player attack\n",
    "        Engine.deal_dmg_to(band2, dmg = dmg1) \n",
    "\n",
    "        dmg2 = Engine.roll_dmg(band2) #NPC attack\n",
    "        Engine.deal_dmg_to(band1, dmg = dmg2) \n",
    "        turns += 1\n",
    "    \n",
    "        \n",
    "    if band1.life == True: win1 +=1\n",
    "    elif band2.life == True: win2 +=1\n",
    "    else: draw += 1\n",
    "    turns_list.append(turns)\n",
    "\n",
    "print(\"band1 wins =\", win1)\n",
    "print(\"band2 wins =\", win2)\n",
    "print(\"draw =\", draw)\n",
    "print(\"average turns count =\", statistics.fmean(turns_list))"
   ]
  },
  {
   "attachments": {},
   "cell_type": "markdown",
   "metadata": {},
   "source": [
    "Basically, all draws are now player wins. So the advantage is greater when the combat is quicker (less turns) and draw rate is high."
   ]
  },
  {
   "cell_type": "code",
   "execution_count": 32,
   "metadata": {},
   "outputs": [
    {
     "name": "stdout",
     "output_type": "stream",
     "text": [
      "band1 (player) wins = 55175\n",
      "band2 wins = 44825\n",
      "draw = 0\n",
      "average turns count = 5.78954\n"
     ]
    }
   ],
   "source": [
    "# 1v1 of Knights with player (band1) always attack first\n",
    "win1 = 0\n",
    "win2 = 0\n",
    "draw = 0\n",
    "turns_list = []\n",
    "\n",
    "for test in range(1, 100001):\n",
    "\n",
    "    band1 = Engine.Warband_knights(n=1)\n",
    "    band2 = Engine.Warband_knights(n=2)\n",
    "    turns = 0\n",
    "\n",
    "    while band1.life == True and band2.life == True:\n",
    "    \n",
    "        dmg1 = Engine.roll_dmg(band1) #Player attack\n",
    "        Engine.deal_dmg_to(band2, dmg = dmg1) \n",
    "\n",
    "        dmg2 = Engine.roll_dmg(band2) #NPC attack\n",
    "        Engine.deal_dmg_to(band1, dmg = dmg2) \n",
    "        turns += 1\n",
    "        \n",
    "    if band1.life == True: win1 +=1\n",
    "    elif band2.life == True: win2 +=1\n",
    "    else: draw += 1\n",
    "    turns_list.append(turns)\n",
    "    \n",
    "print(\"band1 (player) wins =\", win1)\n",
    "print(\"band2 wins =\", win2)\n",
    "print(\"draw =\", draw)\n",
    "print(\"average turns count =\", statistics.fmean(turns_list))"
   ]
  },
  {
   "attachments": {},
   "cell_type": "markdown",
   "metadata": {},
   "source": [
    "For knights, the turns count is bigger and draw rate was smaller, so the advantage for going first is also smaller."
   ]
  },
  {
   "cell_type": "code",
   "execution_count": 18,
   "metadata": {},
   "outputs": [
    {
     "name": "stdout",
     "output_type": "stream",
     "text": [
      "band1 wins = 35534\n",
      "band2 wins = 35757\n",
      "draw = 28709\n"
     ]
    }
   ],
   "source": [
    "# 1v1 of Conscripts with player (band1) attack first on first hit\n",
    "win1 = 0\n",
    "win2 = 0\n",
    "draw = 0\n",
    "\n",
    "for test in range(1, 100001):\n",
    "\n",
    "    band1 = Engine.Warband_conscripts(n=1)\n",
    "    band2 = Engine.Warband_conscripts(n=2)\n",
    "    first_hit = True\n",
    "\n",
    "    while band1.life == True and band2.life == True:\n",
    "    \n",
    "        dmg1 = Engine.roll_dmg(band1) #Player attack\n",
    "        if first_hit == True: \n",
    "            Engine.deal_dmg_to(band2, dmg = dmg1) #First attack\n",
    "\n",
    "        dmg2 = Engine.roll_dmg(band2) #NPC attack\n",
    "        Engine.deal_dmg_to(band1, dmg = dmg2) \n",
    "\n",
    "        if first_hit == False: #Not first attacks\n",
    "            Engine.deal_dmg_to(band2, dmg = dmg1) \n",
    "\n",
    "        first_hit = False\n",
    "\n",
    "    if band1.life == True: win1 +=1\n",
    "    elif band2.life == True: win2 +=1\n",
    "    else: draw += 1\n",
    "\n",
    "print(\"band1 wins =\", win1)\n",
    "print(\"band2 wins =\", win2)\n",
    "print(\"draw =\", draw)"
   ]
  },
  {
   "attachments": {},
   "cell_type": "markdown",
   "metadata": {},
   "source": [
    "Of course, ONE first attack gives no advantage unless it is free without a counterattack in the same turn."
   ]
  },
  {
   "cell_type": "code",
   "execution_count": 33,
   "metadata": {},
   "outputs": [
    {
     "name": "stdout",
     "output_type": "stream",
     "text": [
      "band1 wins = 64332\n",
      "band2 wins = 13990\n",
      "draw = 21678\n",
      "average turns count = 2.996\n"
     ]
    }
   ],
   "source": [
    "# 1v1 of Conscripts with player (band1) attack first on first hit\n",
    "win1 = 0\n",
    "win2 = 0\n",
    "draw = 0\n",
    "turns_list = []\n",
    "\n",
    "for test in range(1, 100001):\n",
    "\n",
    "    band1 = Engine.Warband_conscripts(n=1)\n",
    "    band2 = Engine.Warband_conscripts(n=2)\n",
    "    first_hit = True\n",
    "    turns = 0\n",
    "    while band1.life == True and band2.life == True:\n",
    "    \n",
    "        if first_hit == True: \n",
    "            dmg1 = Engine.roll_dmg(band1) #Player attack\n",
    "            Engine.deal_dmg_to(band2, dmg = dmg1) #First attack\n",
    "            # No NPC attack\n",
    "         \n",
    "        if first_hit == False: \n",
    "            dmg1 = Engine.roll_dmg(band1) #Player attack\n",
    "            dmg2 = Engine.roll_dmg(band2) #NPC attack\n",
    "            Engine.deal_dmg_to(band2, dmg = dmg1) #Not first attacks\n",
    "            Engine.deal_dmg_to(band1, dmg = dmg2)\n",
    "        turns += 1    \n",
    "        first_hit = False\n",
    "\n",
    "    if band1.life == True: win1 +=1\n",
    "    elif band2.life == True: win2 +=1\n",
    "    else: draw += 1\n",
    "    turns_list.append(turns)\n",
    "\n",
    "print(\"band1 wins =\", win1)\n",
    "print(\"band2 wins =\", win2)\n",
    "print(\"draw =\", draw)\n",
    "print(\"average turns count =\", statistics.fmean(turns_list))"
   ]
  },
  {
   "attachments": {},
   "cell_type": "markdown",
   "metadata": {},
   "source": [
    "Free attack made a huge difference now. "
   ]
  },
  {
   "attachments": {},
   "cell_type": "markdown",
   "metadata": {},
   "source": [
    "---\n",
    "Now the group combat"
   ]
  },
  {
   "cell_type": "code",
   "execution_count": 48,
   "metadata": {},
   "outputs": [
    {
     "name": "stdout",
     "output_type": "stream",
     "text": [
      "1 & 2 wins = 1\n",
      "3 & 4 wins = 9997\n",
      "draw = 2\n"
     ]
    }
   ],
   "source": [
    "# For me, the most interesting thing was whether surrounding the enemy in battle is superior as in real warfare. \n",
    "# So we have 2v2 with the first group (bands 1 & 2) attacking together. The other group fights 1v1. \n",
    "# Intuitively the second group has the advantage as 2d6 > highest roll of 2d6.\n",
    "# Again, the dmg is dealt simultaneously.\n",
    "\n",
    "win12 = 0\n",
    "win34 = 0\n",
    "draw = 0\n",
    "\n",
    "for test in range(1, 10001):\n",
    "\n",
    "    band1 = Engine.Warband_conscripts(n=1)\n",
    "    band2 = Engine.Warband_conscripts(n=2)\n",
    "    band3 = Engine.Warband_conscripts(n=3)\n",
    "    band4 = Engine.Warband_conscripts(n=4)\n",
    "\n",
    "    while (band1.life == True or band2.life == True) and band4.life == True:\n",
    "    \n",
    "\n",
    "        if band1.life == True or band2.life == True:\n",
    "            dmg12 = Engine.roll_dmg(band1,band2) #if both are alive they attack together\n",
    "            \n",
    "\n",
    "        if band1.life == True and band2.life == True: #if both bands 1&2 are alive they are attacking in 1v1\n",
    "            dmg3 = Engine.roll_dmg(band3) #Attack of band3\n",
    "            Engine.deal_dmg_to(band1, dmg = dmg3) \n",
    "            \n",
    "            dmg4 = Engine.roll_dmg(band4) #Attack of band4\n",
    "            Engine.deal_dmg_to(band2, dmg = dmg4) \n",
    "        elif band1.life == True or band2.life == True: #if not they are attacking together \n",
    "            dmg34 = Engine.roll_dmg(band3,band4)\n",
    "            Engine.deal_dmg_to(band1,band2, dmg = dmg34)\n",
    "\n",
    "            Engine.deal_dmg_to(band3,band4, dmg = dmg12) #The dmg from band1&2 attack\n",
    "\n",
    "    if band1.life == True or band2.life == True:\n",
    "        win12 +=1\n",
    "    if band3.life == True or band4.life == True:\n",
    "        win34 +=1\n",
    "    if band1.life == False and band2.life == False and band3.life == False and band4.life == False:\n",
    "        draw += 1\n",
    "\n",
    "print(\"1 & 2 wins =\", win12)\n",
    "print(\"3 & 4 wins =\", win34)\n",
    "print(\"draw =\", draw)\n"
   ]
  },
  {
   "attachments": {},
   "cell_type": "markdown",
   "metadata": {},
   "source": [
    "Results are like BRUH. So the bonus is necessary."
   ]
  },
  {
   "cell_type": "code",
   "execution_count": 60,
   "metadata": {},
   "outputs": [
    {
     "name": "stdout",
     "output_type": "stream",
     "text": [
      "1 & 2 wins = 2841\n",
      "3 & 4 wins = 5636\n",
      "draw = 1523\n"
     ]
    }
   ],
   "source": [
    "# Again but with +d8 bonus (tactical advantage)\n",
    "win12 = 0\n",
    "win34 = 0\n",
    "draw = 0\n",
    "\n",
    "for test in range(1, 10001):\n",
    "\n",
    "    band1 = Engine.Warband_conscripts(n=1)\n",
    "    band2 = Engine.Warband_conscripts(n=2)\n",
    "    band3 = Engine.Warband_conscripts(n=3)\n",
    "    band4 = Engine.Warband_conscripts(n=4)\n",
    "\n",
    "    while (band1.life == True or band2.life == True) and band4.life == True:\n",
    "    \n",
    "\n",
    "        if band1.life == True and band2.life == True:\n",
    "            dmg12 = Engine.roll_dmg(band1,band2,bonus = 8) #if both are alive they attack together and get bonus\n",
    "        else: dmg12 = Engine.roll_dmg(band1,band2) #If not the alive one attack without bonus\n",
    "\n",
    "        if (band1.life == False or band2.life == False) and (band3.life == True and band4.life == True): #if any of bands 1&2 is dead and both 3&4 are alive they are attacking together and get the bonus\n",
    "            dmg34 = Engine.roll_dmg(band3,band4, bonus = 8)\n",
    "            Engine.deal_dmg_to(band1,band2, dmg = dmg34)\n",
    "        else: #if not they are attacking 1v1\n",
    "            dmg3 = Engine.roll_dmg(band3) #Attack of band3\n",
    "            Engine.deal_dmg_to(band1,band2, dmg = dmg3) \n",
    "            dmg4 = Engine.roll_dmg(band4) #Attack of band4\n",
    "            Engine.deal_dmg_to(band2,band1, dmg = dmg4) \n",
    "\n",
    "        Engine.deal_dmg_to(band3,band4, dmg = dmg12) #The dmg from band1&2 attack\n",
    "\n",
    "\n",
    "    if band1.life == True or band2.life == True:\n",
    "        win12 +=1\n",
    "    if band3.life == True or band4.life == True:\n",
    "        win34 +=1\n",
    "    if band1.life == False and band2.life == False and band3.life == False and band4.life == False:\n",
    "        draw += 1\n",
    "\n",
    "print(\"1 & 2 wins =\", win12)\n",
    "print(\"3 & 4 wins =\", win34)\n",
    "print(\"draw =\", draw)\n",
    "\n"
   ]
  },
  {
   "attachments": {},
   "cell_type": "markdown",
   "metadata": {},
   "source": [
    "1v1 is superion even with d8 bonus. What about other bonuses?:\n"
   ]
  },
  {
   "cell_type": "code",
   "execution_count": 15,
   "metadata": {},
   "outputs": [
    {
     "name": "stdout",
     "output_type": "stream",
     "text": [
      "1 & 2 wins = 4308\n",
      "3 & 4 wins = 4476\n",
      "draw = 1216\n"
     ]
    }
   ],
   "source": [
    "# Again but with +d10 bonus\n",
    "win12 = 0\n",
    "win34 = 0\n",
    "draw = 0\n",
    "\n",
    "for test in range(1, 10001):\n",
    "\n",
    "    band1 = Engine.Warband_conscripts(n=1)\n",
    "    band2 = Engine.Warband_conscripts(n=2)\n",
    "    band3 = Engine.Warband_conscripts(n=3)\n",
    "    band4 = Engine.Warband_conscripts(n=4)\n",
    "\n",
    "    while (band1.life == True or band2.life == True) and band4.life == True:\n",
    "    \n",
    "\n",
    "        if band1.life == True and band2.life == True:\n",
    "            dmg12 = Engine.roll_dmg(band1,band2,bonus = 10) #if both are alive they attack together and get bonus\n",
    "        else: dmg12 = Engine.roll_dmg(band1,band2) #If not the alive one attack without bonus\n",
    "\n",
    "        if (band1.life == False or band2.life == False) and (band3.life == True and band4.life == True): #if any of bands 1&2 is dead and both 3&4 are alive they are attacking together and get the bonus\n",
    "            dmg34 = Engine.roll_dmg(band3,band4, bonus = 10)\n",
    "            Engine.deal_dmg_to(band1,band2, dmg = dmg34)\n",
    "        else: #if not they are attacking 1v1\n",
    "            dmg3 = Engine.roll_dmg(band3) #Attack of band3\n",
    "            Engine.deal_dmg_to(band1,band2, dmg = dmg3) \n",
    "            dmg4 = Engine.roll_dmg(band4) #Attack of band4\n",
    "            Engine.deal_dmg_to(band2,band1, dmg = dmg4) \n",
    "\n",
    "        Engine.deal_dmg_to(band3,band4, dmg = dmg12) #The dmg from band1&2 attack\n",
    "\n",
    "\n",
    "    if band1.life == True or band2.life == True:\n",
    "        win12 +=1\n",
    "    if band3.life == True or band4.life == True:\n",
    "        win34 +=1\n",
    "    if band1.life == False and band2.life == False and band3.life == False and band4.life == False:\n",
    "        draw += 1\n",
    "\n",
    "print(\"1 & 2 wins =\", win12)\n",
    "print(\"3 & 4 wins =\", win34)\n",
    "print(\"draw =\", draw)\n",
    "\n"
   ]
  },
  {
   "attachments": {},
   "cell_type": "markdown",
   "metadata": {},
   "source": [
    "D10 bonus restore balance. At least for conscripts."
   ]
  },
  {
   "cell_type": "code",
   "execution_count": 16,
   "metadata": {},
   "outputs": [
    {
     "name": "stdout",
     "output_type": "stream",
     "text": [
      "1 & 2 wins = 5370\n",
      "3 & 4 wins = 3591\n",
      "draw = 1039\n"
     ]
    }
   ],
   "source": [
    "# Again but with +d12 bonus\n",
    "win12 = 0\n",
    "win34 = 0\n",
    "draw = 0\n",
    "\n",
    "for test in range(1, 10001):\n",
    "\n",
    "    band1 = Engine.Warband_conscripts(n=1)\n",
    "    band2 = Engine.Warband_conscripts(n=2)\n",
    "    band3 = Engine.Warband_conscripts(n=3)\n",
    "    band4 = Engine.Warband_conscripts(n=4)\n",
    "\n",
    "    while (band1.life == True or band2.life == True) and band4.life == True:\n",
    "    \n",
    "\n",
    "        if band1.life == True and band2.life == True:\n",
    "            dmg12 = Engine.roll_dmg(band1,band2,bonus = 12) #if both are alive they attack together and get bonus\n",
    "        else: dmg12 = Engine.roll_dmg(band1,band2) #If not the alive one attack without bonus\n",
    "\n",
    "        if (band1.life == False or band2.life == False) and (band3.life == True and band4.life == True): #if any of bands 1&2 is dead and both 3&4 are alive they are attacking together and get the bonus\n",
    "            dmg34 = Engine.roll_dmg(band3,band4, bonus = 12)\n",
    "            Engine.deal_dmg_to(band1,band2, dmg = dmg34)\n",
    "        else: #if not they are attacking 1v1\n",
    "            dmg3 = Engine.roll_dmg(band3) #Attack of band3\n",
    "            Engine.deal_dmg_to(band1,band2, dmg = dmg3) \n",
    "            dmg4 = Engine.roll_dmg(band4) #Attack of band4\n",
    "            Engine.deal_dmg_to(band2,band1, dmg = dmg4) \n",
    "\n",
    "        Engine.deal_dmg_to(band3,band4, dmg = dmg12) #The dmg from band1&2 attack\n",
    "\n",
    "\n",
    "    if band1.life == True or band2.life == True:\n",
    "        win12 +=1\n",
    "    if band3.life == True or band4.life == True:\n",
    "        win34 +=1\n",
    "    if band1.life == False and band2.life == False and band3.life == False and band4.life == False:\n",
    "        draw += 1\n",
    "\n",
    "print(\"1 & 2 wins =\", win12)\n",
    "print(\"3 & 4 wins =\", win34)\n",
    "print(\"draw =\", draw)\n",
    "\n"
   ]
  },
  {
   "attachments": {},
   "cell_type": "markdown",
   "metadata": {},
   "source": [
    "d12 bonus makes surronding a valid strategy. The d12 in fight with d6s is big. Check the math behind it:"
   ]
  },
  {
   "cell_type": "code",
   "execution_count": 14,
   "metadata": {},
   "outputs": [
    {
     "name": "stdout",
     "output_type": "stream",
     "text": [
      "group 1 dmg without bonus= 4.472222222222222\n",
      "group 1 dmg with d8 bonus= 5.59375\n",
      "group 1 dmg with d10 bonus= 6.375\n",
      "group 1 dmg with d12 bonus= 7.229166666666667\n",
      "group 2 dmg = 7.0\n"
     ]
    }
   ],
   "source": [
    "# Check the average dmg output of both groups\n",
    "\n",
    "Group_1_0 = Engine.Multiple_attack_avg_dmg(\"6, 6\")\n",
    "Group_1_d8 = Engine.Multiple_attack_avg_dmg(\"6, 6, 8\")\n",
    "Group_1_d10 = Engine.Multiple_attack_avg_dmg(\"6, 6, 10\")\n",
    "Group_1_d12 = Engine.Multiple_attack_avg_dmg(\"6, 6, 12\")\n",
    "\n",
    "Group_2 = 3.5*2 # average dmg with d6 * 2\n",
    "\n",
    "print(\"group 1 dmg without bonus=\", Group_1_0)\n",
    "print(\"group 1 dmg with d8 bonus=\", Group_1_d8)\n",
    "print(\"group 1 dmg with d10 bonus=\", Group_1_d10)\n",
    "print(\"group 1 dmg with d12 bonus=\", Group_1_d12)\n",
    "print(\"group 2 dmg =\", Group_2)"
   ]
  },
  {
   "attachments": {},
   "cell_type": "markdown",
   "metadata": {},
   "source": [
    "Little weird, as the d10 make combat more balanced than d12 while avg demage of group 2 is closer to d12 than d10 bonus. \n",
    "What about other groups?"
   ]
  },
  {
   "cell_type": "code",
   "execution_count": 17,
   "metadata": {},
   "outputs": [
    {
     "name": "stdout",
     "output_type": "stream",
     "text": [
      "1 & 2 wins = 1521\n",
      "3 & 4 wins = 6919\n",
      "draw = 1560\n"
     ]
    }
   ],
   "source": [
    "# Mercenaries and d8 bonus\n",
    "win12 = 0\n",
    "win34 = 0\n",
    "draw = 0\n",
    "\n",
    "for test in range(1, 10001):\n",
    "\n",
    "    band1 = Engine.Warband_mercenaries(n=1)\n",
    "    band2 = Engine.Warband_mercenaries(n=2)\n",
    "    band3 = Engine.Warband_mercenaries(n=3)\n",
    "    band4 = Engine.Warband_mercenaries(n=4)\n",
    "\n",
    "    while (band1.life == True or band2.life == True) and band4.life == True:\n",
    "    \n",
    "\n",
    "        if band1.life == True and band2.life == True:\n",
    "            dmg12 = Engine.roll_dmg(band1,band2,bonus = 8) #if both are alive they attack together and get bonus\n",
    "        else: dmg12 = Engine.roll_dmg(band1,band2) #If not the alive one attack without bonus\n",
    "\n",
    "        if (band1.life == False or band2.life == False) and (band3.life == True and band4.life == True): #if any of bands 1&2 is dead and both 3&4 are alive they are attacking together and get the bonus\n",
    "            dmg34 = Engine.roll_dmg(band3,band4, bonus = 8)\n",
    "            Engine.deal_dmg_to(band1,band2, dmg = dmg34)\n",
    "        else: #if not they are attacking 1v1\n",
    "            dmg3 = Engine.roll_dmg(band3) #Attack of band3\n",
    "            Engine.deal_dmg_to(band1,band2, dmg = dmg3) \n",
    "            dmg4 = Engine.roll_dmg(band4) #Attack of band4\n",
    "            Engine.deal_dmg_to(band2,band1, dmg = dmg4) \n",
    "\n",
    "        Engine.deal_dmg_to(band3,band4, dmg = dmg12) #The dmg from band1&2 attack\n",
    "\n",
    "\n",
    "    if band1.life == True or band2.life == True:\n",
    "        win12 +=1\n",
    "    if band3.life == True or band4.life == True:\n",
    "        win34 +=1\n",
    "    if band1.life == False and band2.life == False and band3.life == False and band4.life == False:\n",
    "        draw += 1\n",
    "\n",
    "print(\"1 & 2 wins =\", win12)\n",
    "print(\"3 & 4 wins =\", win34)\n",
    "print(\"draw =\", draw)\n",
    "\n"
   ]
  },
  {
   "cell_type": "code",
   "execution_count": 18,
   "metadata": {},
   "outputs": [
    {
     "name": "stdout",
     "output_type": "stream",
     "text": [
      "group 1 dmg with d8 bonus= 6.46875\n",
      "group 2 dmg = 9.0\n"
     ]
    }
   ],
   "source": [
    "# Check the average dmg output of both groups\n",
    "\n",
    "Group_1_d8 = Engine.Multiple_attack_avg_dmg(\"8, 8, 8\")\n",
    "Group_2 = 4.5*2 # average dmg with d8 * 2\n",
    "\n",
    "print(\"group 1 dmg with d8 bonus=\", Group_1_d8)\n",
    "print(\"group 2 dmg =\", Group_2)"
   ]
  },
  {
   "attachments": {},
   "cell_type": "markdown",
   "metadata": {},
   "source": [
    "Not so good"
   ]
  },
  {
   "cell_type": "code",
   "execution_count": 63,
   "metadata": {},
   "outputs": [
    {
     "name": "stdout",
     "output_type": "stream",
     "text": [
      "1 & 2 wins = 3471\n",
      "3 & 4 wins = 5184\n",
      "draw = 1345\n"
     ]
    }
   ],
   "source": [
    "# Mercenaries and d12 bonus\n",
    "win12 = 0\n",
    "win34 = 0\n",
    "draw = 0\n",
    "\n",
    "for test in range(1, 10001):\n",
    "\n",
    "    band1 = Engine.Warband_mercenaries(n=1)\n",
    "    band2 = Engine.Warband_mercenaries(n=2)\n",
    "    band3 = Engine.Warband_mercenaries(n=3)\n",
    "    band4 = Engine.Warband_mercenaries(n=4)\n",
    "\n",
    "    while (band1.life == True or band2.life == True) and band4.life == True:\n",
    "    \n",
    "\n",
    "        if band1.life == True and band2.life == True:\n",
    "            dmg12 = Engine.roll_dmg(band1,band2,bonus = 12) #if both are alive they attack together and get bonus\n",
    "        else: dmg12 = Engine.roll_dmg(band1,band2) #If not the alive one attack without bonus\n",
    "\n",
    "        if (band1.life == False or band2.life == False) and (band3.life == True and band4.life == True): #if any of bands 1&2 is dead and both 3&4 are alive they are attacking together and get the bonus\n",
    "            dmg34 = Engine.roll_dmg(band3,band4, bonus = 12)\n",
    "            Engine.deal_dmg_to(band1,band2, dmg = dmg34)\n",
    "        else: #if not they are attacking 1v1\n",
    "            dmg3 = Engine.roll_dmg(band3) #Attack of band3\n",
    "            Engine.deal_dmg_to(band1,band2, dmg = dmg3) \n",
    "            dmg4 = Engine.roll_dmg(band4) #Attack of band4\n",
    "            Engine.deal_dmg_to(band2,band1, dmg = dmg4) \n",
    "\n",
    "        Engine.deal_dmg_to(band3,band4, dmg = dmg12) #The dmg from band1&2 attack\n",
    "\n",
    "\n",
    "    if band1.life == True or band2.life == True:\n",
    "        win12 +=1\n",
    "    if band3.life == True or band4.life == True:\n",
    "        win34 +=1\n",
    "    if band1.life == False and band2.life == False and band3.life == False and band4.life == False:\n",
    "        draw += 1\n",
    "\n",
    "print(\"1 & 2 wins =\", win12)\n",
    "print(\"3 & 4 wins =\", win34)\n",
    "print(\"draw =\", draw)\n",
    "\n"
   ]
  },
  {
   "cell_type": "code",
   "execution_count": 19,
   "metadata": {},
   "outputs": [
    {
     "name": "stdout",
     "output_type": "stream",
     "text": [
      "group 1 dmg with d12 bonus= 7.8125\n",
      "group 2 dmg = 9.0\n"
     ]
    }
   ],
   "source": [
    "# Check the average dmg output of both groups\n",
    "\n",
    "Group_1_d12 = Engine.Multiple_attack_avg_dmg(\"8, 8, 12\")\n",
    "Group_2 = 4.5*2 # average dmg with d8 * 2\n",
    "\n",
    "print(\"group 1 dmg with d12 bonus=\", Group_1_d12)\n",
    "print(\"group 2 dmg =\", Group_2)"
   ]
  },
  {
   "attachments": {},
   "cell_type": "markdown",
   "metadata": {},
   "source": [
    "Even with d12 bonus its not good. The average dmg output difference is to high. The bonus have to be huge to be worth getting together. Check the knigts next:"
   ]
  },
  {
   "cell_type": "code",
   "execution_count": 65,
   "metadata": {},
   "outputs": [
    {
     "name": "stdout",
     "output_type": "stream",
     "text": [
      "1 & 2 wins = 5677\n",
      "3 & 4 wins = 3807\n",
      "draw = 516\n"
     ]
    }
   ],
   "source": [
    "# knights with d8 bonus\n",
    "win12 = 0\n",
    "win34 = 0\n",
    "draw = 0\n",
    "\n",
    "for test in range(1, 10001):\n",
    "\n",
    "    band1 = Engine.Warband_knights(n=1)\n",
    "    band2 = Engine.Warband_knights(n=2)\n",
    "    band3 = Engine.Warband_knights(n=3)\n",
    "    band4 = Engine.Warband_knights(n=4)\n",
    "\n",
    "    while (band1.life == True or band2.life == True) and band4.life == True:\n",
    "    \n",
    "\n",
    "        if band1.life == True and band2.life == True:\n",
    "            dmg12 = Engine.roll_dmg(band1,band2,bonus = 8) #if both are alive they attack together and get bonus\n",
    "        else: dmg12 = Engine.roll_dmg(band1,band2) #If not the alive one attack without bonus\n",
    "\n",
    "        if (band1.life == False or band2.life == False) and (band3.life == True and band4.life == True): #if any of bands 1&2 is dead and both 3&4 are alive they are attacking together and get the bonus\n",
    "            dmg34 = Engine.roll_dmg(band3,band4, bonus = 8)\n",
    "            Engine.deal_dmg_to(band1,band2, dmg = dmg34)\n",
    "        else: #if not they are attacking 1v1\n",
    "            dmg3 = Engine.roll_dmg(band3) #Attack of band3\n",
    "            Engine.deal_dmg_to(band1,band2, dmg = dmg3) \n",
    "            dmg4 = Engine.roll_dmg(band4) #Attack of band4\n",
    "            Engine.deal_dmg_to(band2,band1, dmg = dmg4) \n",
    "\n",
    "        Engine.deal_dmg_to(band3,band4, dmg = dmg12) #The dmg from band1&2 attack\n",
    "\n",
    "\n",
    "    if band1.life == True or band2.life == True:\n",
    "        win12 +=1\n",
    "    if band3.life == True or band4.life == True:\n",
    "        win34 +=1\n",
    "    if band1.life == False and band2.life == False and band3.life == False and band4.life == False:\n",
    "        draw += 1\n",
    "\n",
    "print(\"1 & 2 wins =\", win12)\n",
    "print(\"3 & 4 wins =\", win34)\n",
    "print(\"draw =\", draw)\n",
    "\n"
   ]
  },
  {
   "cell_type": "code",
   "execution_count": 20,
   "metadata": {},
   "outputs": [
    {
     "name": "stdout",
     "output_type": "stream",
     "text": [
      "group 1 dmg with d8 bonus= 3.46875\n",
      "group 2 dmg = 3.0\n"
     ]
    }
   ],
   "source": [
    "# Check the average dmg output of both groups\n",
    "\n",
    "Group_1_d8 = Engine.Multiple_attack_avg_dmg(\"8, 8, 8\") - 3 # Including -3 dmg from aromor\n",
    "Group_2 = (4.5-3)*2 # average dmg with d8 - armor * 2\n",
    "\n",
    "print(\"group 1 dmg with d8 bonus=\", Group_1_d8)\n",
    "print(\"group 2 dmg =\", Group_2)"
   ]
  },
  {
   "attachments": {},
   "cell_type": "markdown",
   "metadata": {},
   "source": [
    "Interestingly, even the d8 bonus works for knights. Armor makes a difference here. The math is correct, but it seems counterintuitive."
   ]
  },
  {
   "cell_type": "code",
   "execution_count": 66,
   "metadata": {},
   "outputs": [
    {
     "name": "stdout",
     "output_type": "stream",
     "text": [
      "1 & 2 wins = 7491\n",
      "3 & 4 wins = 2126\n",
      "draw = 383\n"
     ]
    }
   ],
   "source": [
    "# knights with d12 bonus\n",
    "win12 = 0\n",
    "win34 = 0\n",
    "draw = 0\n",
    "\n",
    "for test in range(1, 10001):\n",
    "\n",
    "    band1 = Engine.Warband_knights(n=1)\n",
    "    band2 = Engine.Warband_knights(n=2)\n",
    "    band3 = Engine.Warband_knights(n=3)\n",
    "    band4 = Engine.Warband_knights(n=4)\n",
    "    i = 0\n",
    "    while (band1.life == True or band2.life == True) and band4.life == True:\n",
    "    \n",
    "\n",
    "        if band1.life == True and band2.life == True:\n",
    "            dmg12 = Engine.roll_dmg(band1,band2,bonus = 12) #if both are alive they attack together and get bonus\n",
    "        else: dmg12 = Engine.roll_dmg(band1,band2) #If not the alive one attack without bonus\n",
    "\n",
    "        if (band1.life == False or band2.life == False) and (band3.life == True and band4.life == True): #if any of bands 1&2 is dead and both 3&4 are alive they are attacking together and get the bonus\n",
    "            dmg34 = Engine.roll_dmg(band3,band4, bonus = 12)\n",
    "            Engine.deal_dmg_to(band1,band2, dmg = dmg34)\n",
    "        else: #if not they are attacking 1v1\n",
    "            dmg3 = Engine.roll_dmg(band3) #Attack of band3\n",
    "            Engine.deal_dmg_to(band1,band2, dmg = dmg3) \n",
    "            dmg4 = Engine.roll_dmg(band4) #Attack of band4\n",
    "            Engine.deal_dmg_to(band2,band1, dmg = dmg4) \n",
    "\n",
    "        Engine.deal_dmg_to(band3,band4, dmg = dmg12) #The dmg from band1&2 attack\n",
    "\n",
    "\n",
    "    if band1.life == True or band2.life == True:\n",
    "        win12 +=1\n",
    "    if band3.life == True or band4.life == True:\n",
    "        win34 +=1\n",
    "    if band1.life == False and band2.life == False and band3.life == False and band4.life == False:\n",
    "        draw += 1\n",
    "\n",
    "print(\"1 & 2 wins =\", win12)\n",
    "print(\"3 & 4 wins =\", win34)\n",
    "print(\"draw =\", draw)\n",
    "\n"
   ]
  },
  {
   "cell_type": "code",
   "execution_count": 21,
   "metadata": {},
   "outputs": [
    {
     "name": "stdout",
     "output_type": "stream",
     "text": [
      "group 1 dmg with d8 bonus= 4.8125\n",
      "group 2 dmg = 3.0\n"
     ]
    }
   ],
   "source": [
    "# Check the average dmg output of both groups\n",
    "\n",
    "Group_1_d12 = Engine.Multiple_attack_avg_dmg(\"8, 8, 12\") - 3 # Including -3 dmg from aromor\n",
    "Group_2 = (4.5-3)*2 # average dmg with d8 - armor * 2\n",
    "\n",
    "print(\"group 1 dmg with d8 bonus=\", Group_1_d12)\n",
    "print(\"group 2 dmg =\", Group_2)"
   ]
  },
  {
   "attachments": {},
   "cell_type": "markdown",
   "metadata": {},
   "source": [
    "Increase to d12 makes the difference even bigger. The armor is gamechanger. Recheck for knights with A1"
   ]
  },
  {
   "cell_type": "code",
   "execution_count": 70,
   "metadata": {},
   "outputs": [
    {
     "name": "stdout",
     "output_type": "stream",
     "text": [
      "1 & 2 wins = 3681\n",
      "3 & 4 wins = 5299\n",
      "draw = 1020\n"
     ]
    }
   ],
   "source": [
    "# Knights with A1 and d8 bonus\n",
    "win12 = 0\n",
    "win34 = 0\n",
    "draw = 0\n",
    "\n",
    "for test in range(1, 10001):\n",
    "\n",
    "    band1 = Engine.Warband_knights(armor = 1, n=1)\n",
    "    band2 = Engine.Warband_knights(armor = 1, n=2)\n",
    "    band3 = Engine.Warband_knights(armor = 1, n=3)\n",
    "    band4 = Engine.Warband_knights(armor = 1, n=4)\n",
    "    i = 0\n",
    "    while (band1.life == True or band2.life == True) and band4.life == True:\n",
    "    \n",
    "\n",
    "        if band1.life == True and band2.life == True:\n",
    "            dmg12 = Engine.roll_dmg(band1,band2,bonus = 8) #if both are alive they attack together and get bonus\n",
    "        else: dmg12 = Engine.roll_dmg(band1,band2) #If not the alive one attack without bonus\n",
    "\n",
    "        if (band1.life == False or band2.life == False) and (band3.life == True and band4.life == True): #if any of bands 1&2 is dead and both 3&4 are alive they are attacking together and get the bonus\n",
    "            dmg34 = Engine.roll_dmg(band3,band4, bonus = 8)\n",
    "            Engine.deal_dmg_to(band1,band2, dmg = dmg34)\n",
    "        else: #if not they are attacking 1v1\n",
    "            dmg3 = Engine.roll_dmg(band3) #Attack of band3\n",
    "            Engine.deal_dmg_to(band1,band2, dmg = dmg3) \n",
    "            dmg4 = Engine.roll_dmg(band4) #Attack of band4\n",
    "            Engine.deal_dmg_to(band2,band1, dmg = dmg4) \n",
    "\n",
    "        Engine.deal_dmg_to(band3,band4, dmg = dmg12) #The dmg from band1&2 attack\n",
    "\n",
    "\n",
    "    if band1.life == True or band2.life == True:\n",
    "        win12 +=1\n",
    "    if band3.life == True or band4.life == True:\n",
    "        win34 +=1\n",
    "    if band1.life == False and band2.life == False and band3.life == False and band4.life == False:\n",
    "        draw += 1\n",
    "\n",
    "print(\"1 & 2 wins =\", win12)\n",
    "print(\"3 & 4 wins =\", win34)\n",
    "print(\"draw =\", draw)\n",
    "\n"
   ]
  },
  {
   "cell_type": "code",
   "execution_count": 22,
   "metadata": {},
   "outputs": [
    {
     "name": "stdout",
     "output_type": "stream",
     "text": [
      "group 1 dmg with d8 bonus= 5.46875\n",
      "group 2 dmg = 7.0\n"
     ]
    }
   ],
   "source": [
    "# Check the average dmg output of both groups\n",
    "\n",
    "Group_1_d8 = Engine.Multiple_attack_avg_dmg(\"8, 8, 8\") - 1 # Including -3 dmg from aromor\n",
    "Group_2 = (4.5-1)*2 # average dmg with d8 - armor * 2\n",
    "\n",
    "print(\"group 1 dmg with d8 bonus=\", Group_1_d8)\n",
    "print(\"group 2 dmg =\", Group_2)"
   ]
  },
  {
   "attachments": {},
   "cell_type": "markdown",
   "metadata": {},
   "source": [
    "Yes weaker armor restored previous inbalance."
   ]
  },
  {
   "attachments": {},
   "cell_type": "markdown",
   "metadata": {},
   "source": [
    "In my opinion the balance could be restored by adding the default armor for troops. This will be mechanically valid and logical (like you are a mercenary with a big sword and no protection... risky business in hard times :P)."
   ]
  },
  {
   "cell_type": "code",
   "execution_count": 32,
   "metadata": {},
   "outputs": [
    {
     "name": "stdout",
     "output_type": "stream",
     "text": [
      "group of Conscipts attacking together with 1 armor = 4.59375\n",
      "group of Conscipts attacking 1v1 with 1 armor = 5.0\n",
      "group of Conscipts attacking together with 2 armor = 3.59375\n",
      "group of Conscipts attacking 1v1 with 2 armor = 3.0\n",
      "group of Mercenaries attacking together with 1 armor = 5.46875\n",
      "group of Mercenaries attacking 1v1 with 1 armor = 7.0\n",
      "group of Mercenaries attacking together with 2 armor = 4.46875\n",
      "group of Mercenaries attacking 1v1 with 2 armor = 5.0\n"
     ]
    }
   ],
   "source": [
    "# Check the bonuses with different armors\n",
    "\n",
    "#conscripts:\n",
    "Conscripts_1_A1 = Engine.Multiple_attack_avg_dmg(\"6, 6, 8\") - 1 \n",
    "Conscripts_1_A2 = Engine.Multiple_attack_avg_dmg(\"6, 6, 8\") - 2 \n",
    "\n",
    "Conscripts_2_A1 = (3.5-1)*2 \n",
    "Conscripts_2_A2 = (3.5-2)*2 \n",
    "\n",
    "print(\"group of Conscipts attacking together with 1 armor =\", Conscripts_1_A1)\n",
    "print(\"group of Conscipts attacking 1v1 with 1 armor =\", Conscripts_2_A1)\n",
    "print(\"group of Conscipts attacking together with 2 armor =\", Conscripts_1_A2)\n",
    "print(\"group of Conscipts attacking 1v1 with 2 armor =\", Conscripts_2_A2)\n",
    "\n",
    "#Mercenaries:\n",
    "Mercenaries_1_A1 = Engine.Multiple_attack_avg_dmg(\"8, 8, 8\") - 1 \n",
    "Mercenaries_1_A2 = Engine.Multiple_attack_avg_dmg(\"8, 8, 8\") - 2 \n",
    "Mercenaries_2_A1 = (4.5-1)*2 \n",
    "Mercenaries_2_A2 = (4.5-2)*2 \n",
    "\n",
    "print(\"group of Mercenaries attacking together with 1 armor =\", Mercenaries_1_A1)\n",
    "print(\"group of Mercenaries attacking 1v1 with 1 armor =\", Mercenaries_2_A1)\n",
    "print(\"group of Mercenaries attacking together with 2 armor =\", Mercenaries_1_A2)\n",
    "print(\"group of Mercenaries attacking 1v1 with 2 armor =\", Mercenaries_2_A2)"
   ]
  },
  {
   "attachments": {},
   "cell_type": "markdown",
   "metadata": {},
   "source": [
    "It looks like A1 solves the problems. Check the sim next:\n"
   ]
  },
  {
   "cell_type": "code",
   "execution_count": 26,
   "metadata": {},
   "outputs": [
    {
     "name": "stdout",
     "output_type": "stream",
     "text": [
      "1 & 2 wins = 5026\n",
      "3 & 4 wins = 4063\n",
      "draw = 911\n"
     ]
    }
   ],
   "source": [
    "# Conscripts with d8 bonus and A1\n",
    "win12 = 0\n",
    "win34 = 0\n",
    "draw = 0\n",
    "\n",
    "for test in range(1, 10001):\n",
    "\n",
    "    band1 = Engine.Warband_conscripts(n=1, armor = 1)\n",
    "    band2 = Engine.Warband_conscripts(n=2, armor = 1)\n",
    "    band3 = Engine.Warband_conscripts(n=3, armor = 1)\n",
    "    band4 = Engine.Warband_conscripts(n=4, armor = 1)\n",
    "\n",
    "    while (band1.life == True or band2.life == True) and band4.life == True:\n",
    "    \n",
    "\n",
    "        if band1.life == True and band2.life == True:\n",
    "            dmg12 = Engine.roll_dmg(band1,band2,bonus = 8) #if both are alive they attack together and get bonus\n",
    "        else: dmg12 = Engine.roll_dmg(band1,band2) #If not the alive one attack without bonus\n",
    "\n",
    "        if (band1.life == False or band2.life == False) and (band3.life == True and band4.life == True): #if any of bands 1&2 is dead and both 3&4 are alive they are attacking together and get the bonus\n",
    "            dmg34 = Engine.roll_dmg(band3,band4, bonus = 8)\n",
    "            Engine.deal_dmg_to(band1,band2, dmg = dmg34)\n",
    "        else: #if not they are attacking 1v1\n",
    "            dmg3 = Engine.roll_dmg(band3) #Attack of band3\n",
    "            Engine.deal_dmg_to(band1,band2, dmg = dmg3) \n",
    "            dmg4 = Engine.roll_dmg(band4) #Attack of band4\n",
    "            Engine.deal_dmg_to(band2,band1, dmg = dmg4) \n",
    "\n",
    "        Engine.deal_dmg_to(band3,band4, dmg = dmg12) #The dmg from band1&2 attack\n",
    "\n",
    "\n",
    "    if band1.life == True or band2.life == True:\n",
    "        win12 +=1\n",
    "    if band3.life == True or band4.life == True:\n",
    "        win34 +=1\n",
    "    if band1.life == False and band2.life == False and band3.life == False and band4.life == False:\n",
    "        draw += 1\n",
    "\n",
    "print(\"1 & 2 wins =\", win12)\n",
    "print(\"3 & 4 wins =\", win34)\n",
    "print(\"draw =\", draw)\n",
    "\n"
   ]
  },
  {
   "attachments": {},
   "cell_type": "markdown",
   "metadata": {},
   "source": [
    "For Conscripts it works perfectly fine."
   ]
  },
  {
   "cell_type": "code",
   "execution_count": 30,
   "metadata": {},
   "outputs": [
    {
     "name": "stdout",
     "output_type": "stream",
     "text": [
      "1 & 2 wins = 3343\n",
      "3 & 4 wins = 5365\n",
      "draw = 1292\n"
     ]
    }
   ],
   "source": [
    "# Mercenaries with d8 bonus and A1\n",
    "win12 = 0\n",
    "win34 = 0\n",
    "draw = 0\n",
    "\n",
    "for test in range(1, 10001):\n",
    "\n",
    "    band1 = Engine.Warband_mercenaries(n=1, armor = 1)\n",
    "    band2 = Engine.Warband_mercenaries(n=2, armor = 1)\n",
    "    band3 = Engine.Warband_mercenaries(n=3, armor = 1)\n",
    "    band4 = Engine.Warband_mercenaries(n=4, armor = 1)\n",
    "\n",
    "    while (band1.life == True or band2.life == True) and band4.life == True:\n",
    "    \n",
    "\n",
    "        if band1.life == True and band2.life == True:\n",
    "            dmg12 = Engine.roll_dmg(band1,band2,bonus = 8) #if both are alive they attack together and get bonus\n",
    "        else: dmg12 = Engine.roll_dmg(band1,band2) #If not the alive one attack without bonus\n",
    "\n",
    "        if (band1.life == False or band2.life == False) and (band3.life == True and band4.life == True): #if any of bands 1&2 is dead and both 3&4 are alive they are attacking together and get the bonus\n",
    "            dmg34 = Engine.roll_dmg(band3,band4, bonus = 8)\n",
    "            Engine.deal_dmg_to(band1,band2, dmg = dmg34)\n",
    "        else: #if not they are attacking 1v1\n",
    "            dmg3 = Engine.roll_dmg(band3) #Attack of band3\n",
    "            Engine.deal_dmg_to(band1,band2, dmg = dmg3) \n",
    "            dmg4 = Engine.roll_dmg(band4) #Attack of band4\n",
    "            Engine.deal_dmg_to(band2,band1, dmg = dmg4) \n",
    "\n",
    "        Engine.deal_dmg_to(band3,band4, dmg = dmg12) #The dmg from band1&2 attack\n",
    "\n",
    "\n",
    "    if band1.life == True or band2.life == True:\n",
    "        win12 +=1\n",
    "    if band3.life == True or band4.life == True:\n",
    "        win34 +=1\n",
    "    if band1.life == False and band2.life == False and band3.life == False and band4.life == False:\n",
    "        draw += 1\n",
    "\n",
    "print(\"1 & 2 wins =\", win12)\n",
    "print(\"3 & 4 wins =\", win34)\n",
    "print(\"draw =\", draw)\n",
    "\n"
   ]
  },
  {
   "attachments": {},
   "cell_type": "markdown",
   "metadata": {},
   "source": [
    "1.5 dmg/turn difference is too much. Check the Armor 2 variant next."
   ]
  },
  {
   "cell_type": "code",
   "execution_count": 31,
   "metadata": {},
   "outputs": [
    {
     "name": "stdout",
     "output_type": "stream",
     "text": [
      "1 & 2 wins = 4546\n",
      "3 & 4 wins = 4577\n",
      "draw = 877\n"
     ]
    }
   ],
   "source": [
    "# Mercenaries with d8 bonus and A1\n",
    "win12 = 0\n",
    "win34 = 0\n",
    "draw = 0\n",
    "\n",
    "for test in range(1, 10001):\n",
    "\n",
    "    band1 = Engine.Warband_mercenaries(n=1, armor = 2)\n",
    "    band2 = Engine.Warband_mercenaries(n=2, armor = 2)\n",
    "    band3 = Engine.Warband_mercenaries(n=3, armor = 2)\n",
    "    band4 = Engine.Warband_mercenaries(n=4, armor = 2)\n",
    "\n",
    "    while (band1.life == True or band2.life == True) and band4.life == True:\n",
    "    \n",
    "\n",
    "        if band1.life == True and band2.life == True:\n",
    "            dmg12 = Engine.roll_dmg(band1,band2,bonus = 8) #if both are alive they attack together and get bonus\n",
    "        else: dmg12 = Engine.roll_dmg(band1,band2) #If not the alive one attack without bonus\n",
    "\n",
    "        if (band1.life == False or band2.life == False) and (band3.life == True and band4.life == True): #if any of bands 1&2 is dead and both 3&4 are alive they are attacking together and get the bonus\n",
    "            dmg34 = Engine.roll_dmg(band3,band4, bonus = 8)\n",
    "            Engine.deal_dmg_to(band1,band2, dmg = dmg34)\n",
    "        else: #if not they are attacking 1v1\n",
    "            dmg3 = Engine.roll_dmg(band3) #Attack of band3\n",
    "            Engine.deal_dmg_to(band1,band2, dmg = dmg3) \n",
    "            dmg4 = Engine.roll_dmg(band4) #Attack of band4\n",
    "            Engine.deal_dmg_to(band2,band1, dmg = dmg4) \n",
    "\n",
    "        Engine.deal_dmg_to(band3,band4, dmg = dmg12) #The dmg from band1&2 attack\n",
    "\n",
    "\n",
    "    if band1.life == True or band2.life == True:\n",
    "        win12 +=1\n",
    "    if band3.life == True or band4.life == True:\n",
    "        win34 +=1\n",
    "    if band1.life == False and band2.life == False and band3.life == False and band4.life == False:\n",
    "        draw += 1\n",
    "\n",
    "print(\"1 & 2 wins =\", win12)\n",
    "print(\"3 & 4 wins =\", win34)\n",
    "print(\"draw =\", draw)\n",
    "\n"
   ]
  },
  {
   "attachments": {},
   "cell_type": "markdown",
   "metadata": {},
   "source": [
    "Now it works. It seems like the 0.5 dmg/turn is enough of a difference. After all, killing one of the opponents faster cuts the enemy team's attack in half."
   ]
  }
 ],
 "metadata": {
  "kernelspec": {
   "display_name": "Python 3",
   "language": "python",
   "name": "python3"
  },
  "language_info": {
   "codemirror_mode": {
    "name": "ipython",
    "version": 3
   },
   "file_extension": ".py",
   "mimetype": "text/x-python",
   "name": "python",
   "nbconvert_exporter": "python",
   "pygments_lexer": "ipython3",
   "version": "3.11.1"
  },
  "orig_nbformat": 4
 },
 "nbformat": 4,
 "nbformat_minor": 2
}
